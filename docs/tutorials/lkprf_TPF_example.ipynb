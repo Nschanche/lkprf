{
 "cells": [
  {
   "cell_type": "code",
   "execution_count": 1,
   "id": "c3ed9395-bec2-43ad-88e3-5fb45cf4b08f",
   "metadata": {},
   "outputs": [],
   "source": [
    "%matplotlib inline"
   ]
  },
  {
   "cell_type": "markdown",
   "id": "c1c6ff8c-c59d-4431-b8de-a2dddb3905a9",
   "metadata": {},
   "source": [
    "# lkprf Basics\n",
    "\n",
    "## Author\n",
    "Nicole Schanche - TESS Science Support Center"
   ]
  },
  {
   "cell_type": "markdown",
   "id": "b644ac72-dddb-4e13-a56f-2673d28bc2fa",
   "metadata": {},
   "source": [
    "## Tutorial Goals\n",
    "\n",
    "Light from sources does not fall cleanly on a single pixel. Instead, the light is distributed across an area of the detector, known as the Point Spread Function (PSF). The PSF is not constant and varies as a function of spacecraft motion, jitter, location on the detector plane, and detector response. Both [Kepler](https://archive.stsci.edu/missions/kepler/commissioning_prfs/) and [TESS](https://archive.stsci.edu/missions/tess/models/prf_fitsfiles/) have measured the PSF of discrete locations on the CCD in order to model the observed light contribution of a source across the pixels (the Pixel Response Function or PRF). To learn more about the PRF measurements, you can refer to [this paper](https://arxiv.org/pdf/1001.0331).\n",
    "\n",
    "\n",
    "In this notebook, we demonstrate how to use lkprf to generate a PRF model based on these engineering files. We will create our PRF for a source observed in a real Target Pixel File (TPF). "
   ]
  },
  {
   "cell_type": "markdown",
   "id": "5660aa20-fad3-4785-b466-57dc107babd4",
   "metadata": {},
   "source": [
    "## Imports\n",
    "\n",
    "This tutorial makes use of a number of packages including [matplotlib](https://matplotlib.org/), [numpy](https://numpy.org/), and [astropy](https://www.astropy.org/). In addition it utilized the [lksearch](https://github.com/lightkurve/lksearch) package, which is designed to search for and download data from the TESS and Kepler/K2 missions. "
   ]
  },
  {
   "cell_type": "code",
   "execution_count": 2,
   "id": "64193281-f976-4188-91d6-15aa48486a9c",
   "metadata": {},
   "outputs": [],
   "source": [
    "import matplotlib.pyplot as plt\n",
    "import lkprf\n",
    "import lksearch\n",
    "import numpy as np\n",
    "from astropy.wcs import WCS\n",
    "from astropy.io import fits"
   ]
  },
  {
   "cell_type": "markdown",
   "id": "5d94623e-89ef-49dd-ba90-a3dad01aeb67",
   "metadata": {},
   "source": [
    "## Step 1: Get a TPF\n",
    "\n",
    "In this notebook, we will try to recreate the PRF of a real observed star. To do this, we will start by getting the Target Pixel File for a relatively isolated (low contamination) star. We limit the search using `pipeline='SPOC'`, which restricts the search results to files produced by the mission pipeline. As we want to model a PRF, we further restrict data to target pixel files, known generically as 'cubedata' in the lksearch package. For more information on formulating searches, you can check out [this tutorial](https://github.com/lightkurve/lksearch/blob/main/docs/tutorials/Example_searches.ipynb). "
   ]
  },
  {
   "cell_type": "code",
   "execution_count": 3,
   "id": "be4e36d3-9995-43b8-ba67-2472bf00bb06",
   "metadata": {},
   "outputs": [
    {
     "data": {
      "text/html": [
       "TESSSearch object containing 14 data products \n",
       "<div>\n",
       "<style scoped>\n",
       "    .dataframe tbody tr th:only-of-type {\n",
       "        vertical-align: middle;\n",
       "    }\n",
       "\n",
       "    .dataframe tbody tr th {\n",
       "        vertical-align: top;\n",
       "    }\n",
       "\n",
       "    .dataframe thead th {\n",
       "        text-align: right;\n",
       "    }\n",
       "</style>\n",
       "<table border=\"1\" class=\"dataframe\">\n",
       "  <thead>\n",
       "    <tr style=\"text-align: right;\">\n",
       "      <th></th>\n",
       "      <th>target_name</th>\n",
       "      <th>pipeline</th>\n",
       "      <th>mission</th>\n",
       "      <th>sector</th>\n",
       "      <th>exptime</th>\n",
       "      <th>distance</th>\n",
       "      <th>year</th>\n",
       "      <th>description</th>\n",
       "    </tr>\n",
       "  </thead>\n",
       "  <tbody>\n",
       "    <tr>\n",
       "      <th>0</th>\n",
       "      <td>298896336</td>\n",
       "      <td>SPOC</td>\n",
       "      <td>TESS</td>\n",
       "      <td>26</td>\n",
       "      <td>120.0</td>\n",
       "      <td>0.0</td>\n",
       "      <td>2020</td>\n",
       "      <td>Target pixel files</td>\n",
       "    </tr>\n",
       "    <tr>\n",
       "      <th>1</th>\n",
       "      <td>298896336</td>\n",
       "      <td>SPOC</td>\n",
       "      <td>TESS</td>\n",
       "      <td>40</td>\n",
       "      <td>20.0</td>\n",
       "      <td>0.0</td>\n",
       "      <td>2021</td>\n",
       "      <td>Target pixel files</td>\n",
       "    </tr>\n",
       "    <tr>\n",
       "      <th>2</th>\n",
       "      <td>298896336</td>\n",
       "      <td>SPOC</td>\n",
       "      <td>TESS</td>\n",
       "      <td>40</td>\n",
       "      <td>120.0</td>\n",
       "      <td>0.0</td>\n",
       "      <td>2021</td>\n",
       "      <td>Target pixel files</td>\n",
       "    </tr>\n",
       "    <tr>\n",
       "      <th>3</th>\n",
       "      <td>298896336</td>\n",
       "      <td>SPOC</td>\n",
       "      <td>TESS</td>\n",
       "      <td>41</td>\n",
       "      <td>20.0</td>\n",
       "      <td>0.0</td>\n",
       "      <td>2021</td>\n",
       "      <td>Target pixel files</td>\n",
       "    </tr>\n",
       "    <tr>\n",
       "      <th>4</th>\n",
       "      <td>298896336</td>\n",
       "      <td>SPOC</td>\n",
       "      <td>TESS</td>\n",
       "      <td>41</td>\n",
       "      <td>120.0</td>\n",
       "      <td>0.0</td>\n",
       "      <td>2021</td>\n",
       "      <td>Target pixel files</td>\n",
       "    </tr>\n",
       "    <tr>\n",
       "      <th>...</th>\n",
       "      <td>...</td>\n",
       "      <td>...</td>\n",
       "      <td>...</td>\n",
       "      <td>...</td>\n",
       "      <td>...</td>\n",
       "      <td>...</td>\n",
       "      <td>...</td>\n",
       "      <td>...</td>\n",
       "    </tr>\n",
       "    <tr>\n",
       "      <th>9</th>\n",
       "      <td>298896336</td>\n",
       "      <td>SPOC</td>\n",
       "      <td>TESS</td>\n",
       "      <td>55</td>\n",
       "      <td>20.0</td>\n",
       "      <td>0.0</td>\n",
       "      <td>2022</td>\n",
       "      <td>Target pixel files</td>\n",
       "    </tr>\n",
       "    <tr>\n",
       "      <th>10</th>\n",
       "      <td>298896336</td>\n",
       "      <td>SPOC</td>\n",
       "      <td>TESS</td>\n",
       "      <td>55</td>\n",
       "      <td>120.0</td>\n",
       "      <td>0.0</td>\n",
       "      <td>2022</td>\n",
       "      <td>Target pixel files</td>\n",
       "    </tr>\n",
       "    <tr>\n",
       "      <th>11</th>\n",
       "      <td>298896336</td>\n",
       "      <td>SPOC</td>\n",
       "      <td>TESS</td>\n",
       "      <td>74</td>\n",
       "      <td>120.0</td>\n",
       "      <td>0.0</td>\n",
       "      <td>2024</td>\n",
       "      <td>Target pixel files</td>\n",
       "    </tr>\n",
       "    <tr>\n",
       "      <th>12</th>\n",
       "      <td>298896336</td>\n",
       "      <td>SPOC</td>\n",
       "      <td>TESS</td>\n",
       "      <td>75</td>\n",
       "      <td>120.0</td>\n",
       "      <td>0.0</td>\n",
       "      <td>2024</td>\n",
       "      <td>Target pixel files</td>\n",
       "    </tr>\n",
       "    <tr>\n",
       "      <th>13</th>\n",
       "      <td>298896336</td>\n",
       "      <td>SPOC</td>\n",
       "      <td>TESS</td>\n",
       "      <td>80</td>\n",
       "      <td>120.0</td>\n",
       "      <td>0.0</td>\n",
       "      <td>2024</td>\n",
       "      <td>Target pixel files</td>\n",
       "    </tr>\n",
       "  </tbody>\n",
       "</table>\n",
       "<p>14 rows × 8 columns</p>\n",
       "</div>"
      ],
      "text/plain": [
       "TESSSearch object containing 14 data products \n",
       "   target_name pipeline mission  sector  exptime  distance  year  \\\n",
       "0    298896336     SPOC    TESS      26    120.0       0.0  2020   \n",
       "1    298896336     SPOC    TESS      40     20.0       0.0  2021   \n",
       "2    298896336     SPOC    TESS      40    120.0       0.0  2021   \n",
       "3    298896336     SPOC    TESS      41     20.0       0.0  2021   \n",
       "4    298896336     SPOC    TESS      41    120.0       0.0  2021   \n",
       "..         ...      ...     ...     ...      ...       ...   ...   \n",
       "9    298896336     SPOC    TESS      55     20.0       0.0  2022   \n",
       "10   298896336     SPOC    TESS      55    120.0       0.0  2022   \n",
       "11   298896336     SPOC    TESS      74    120.0       0.0  2024   \n",
       "12   298896336     SPOC    TESS      75    120.0       0.0  2024   \n",
       "13   298896336     SPOC    TESS      80    120.0       0.0  2024   \n",
       "\n",
       "           description  \n",
       "0   Target pixel files  \n",
       "1   Target pixel files  \n",
       "2   Target pixel files  \n",
       "3   Target pixel files  \n",
       "4   Target pixel files  \n",
       "..                 ...  \n",
       "9   Target pixel files  \n",
       "10  Target pixel files  \n",
       "11  Target pixel files  \n",
       "12  Target pixel files  \n",
       "13  Target pixel files  \n",
       "\n",
       "[14 rows x 8 columns]"
      ]
     },
     "execution_count": 3,
     "metadata": {},
     "output_type": "execute_result"
    }
   ],
   "source": [
    "sr = lksearch.TESSSearch('Kepler 50', pipeline='SPOC').cubedata\n",
    "sr\n"
   ]
  },
  {
   "cell_type": "markdown",
   "id": "291142d8-cfda-4dcc-87d8-87b8a5bb8cee",
   "metadata": {},
   "source": [
    "The search result contains a table showing all of the observations of the target for which SPOC data is available to download. The exptime column indicates the observing cadence by TESS. In this case, the star was in some sectors observed in high cadence (20-second) model. \n",
    "\n",
    "The model TPF will be different for this target for every observing sector, as the target will fall on different pixels and different camera and CCDs. Let's just pick a single sector to model. In the download command below, we specify the 0th element of the table, corresponding to the 120-second cadence TPF from sector 26. "
   ]
  },
  {
   "cell_type": "code",
   "execution_count": 4,
   "id": "395f57cb-f6fa-4f76-86ff-452d0978ab1c",
   "metadata": {},
   "outputs": [
    {
     "name": "stderr",
     "output_type": "stream",
     "text": [
      "pipeline products: 100%|██████████████████████████| 1/1 [00:00<00:00,  1.78it/s]\n"
     ]
    },
    {
     "data": {
      "text/html": [
       "<div>\n",
       "<style scoped>\n",
       "    .dataframe tbody tr th:only-of-type {\n",
       "        vertical-align: middle;\n",
       "    }\n",
       "\n",
       "    .dataframe tbody tr th {\n",
       "        vertical-align: top;\n",
       "    }\n",
       "\n",
       "    .dataframe thead th {\n",
       "        text-align: right;\n",
       "    }\n",
       "</style>\n",
       "<table border=\"1\" class=\"dataframe\">\n",
       "  <thead>\n",
       "    <tr style=\"text-align: right;\">\n",
       "      <th></th>\n",
       "      <th>Local Path</th>\n",
       "      <th>Status</th>\n",
       "      <th>Message</th>\n",
       "      <th>URL</th>\n",
       "    </tr>\n",
       "  </thead>\n",
       "  <tbody>\n",
       "    <tr>\n",
       "      <th>0</th>\n",
       "      <td>/Users/nthom/.lksearch/cache/mastDownload/TESS...</td>\n",
       "      <td>COMPLETE</td>\n",
       "      <td>None</td>\n",
       "      <td>None</td>\n",
       "    </tr>\n",
       "  </tbody>\n",
       "</table>\n",
       "</div>"
      ],
      "text/plain": [
       "                                          Local Path    Status Message   URL\n",
       "0  /Users/nthom/.lksearch/cache/mastDownload/TESS...  COMPLETE    None  None"
      ]
     },
     "execution_count": 4,
     "metadata": {},
     "output_type": "execute_result"
    }
   ],
   "source": [
    "fnames = sr[0].download()\n",
    "fnames\n"
   ]
  },
  {
   "cell_type": "markdown",
   "id": "acc2fe52-f3ef-4bc6-a58d-b93c001b0494",
   "metadata": {},
   "source": [
    "Note lksearch will download the data and return a dataframe containing the local file path it is downloaded to.  However, it does not read it in to a lightkurve object. We will read it in using the fits file handling package in astropy. If you need a refresher on fits file handling, you can see this [astropy tutorial](https://learn.astropy.org/tutorials/FITS-images.html). "
   ]
  },
  {
   "cell_type": "code",
   "execution_count": 5,
   "id": "8c1d15fe-c5a5-4350-bcb3-59b73a484f41",
   "metadata": {},
   "outputs": [],
   "source": [
    "tess_hdulist = fits.open(fnames['Local Path'].values[0])"
   ]
  },
  {
   "cell_type": "markdown",
   "id": "209e72fc-053a-48d3-8290-0a68bcc7d498",
   "metadata": {},
   "source": [
    "## Step 2: Create a PRF model\n",
    "\n",
    "Now that we have our file, we can set up our PRF model. \n",
    "To initiate a PRF object, we need to know which camera and CCD (TESS) or channel (Kepler) the target is on. We also can optionally provide the observing Sector for TESS. This is because two sets of PRF engineering models were produced for TESS. The first models were made during commissioning and are used for the early sectors (Sectors 1-3). The commissioning observations were re-run after Sector 3, and these files can be used for subsequent TESS sectors. If the sector is not specified, the models produced for sectors 4 onwards are used. "
   ]
  },
  {
   "cell_type": "code",
   "execution_count": 6,
   "id": "4f5efa3b-924e-496d-9bc2-3eeb6870bd6c",
   "metadata": {},
   "outputs": [],
   "source": [
    "camera = tess_hdulist[0].header['CAMERA']\n",
    "ccd = tess_hdulist[0].header['CCD']\n",
    "sector = tess_hdulist[0].header['SECTOR'] \n",
    "\n",
    "\n",
    "# initialize the PRF object\n",
    "prf_initial = lkprf.TESSPRF(camera=camera, ccd=ccd) #, sector=sector) "
   ]
  },
  {
   "cell_type": "markdown",
   "id": "98cc4f73-9386-452a-b750-6eb58079dcaa",
   "metadata": {},
   "source": [
    "To produce the model itself, we need three pieces of information:\n",
    "- the origin of the cutout (lower left corner),\n",
    "- the target object location\n",
    "- the size of the cutout\n",
    "\n",
    "All of this information can be found in the header information containing in the TPF file. We will use the WCS information contained in the TPF to determine the pixel location of the target. Note that this location is based on the J2000 coordinates, so the location may need to be updated for high proper motion targets. "
   ]
  },
  {
   "cell_type": "code",
   "execution_count": 7,
   "id": "cd02f187-1d60-4fc4-aaae-392d17cb02bb",
   "metadata": {},
   "outputs": [],
   "source": [
    "origin_row =  tess_hdulist[1].header['2CRV4P'] \n",
    "origin_col =  tess_hdulist[1].header['1CRV4P'] \n",
    "\n",
    "\n",
    "# get the WCS information\n",
    "wcs = WCS(tess_hdulist[2].header)\n",
    "# Convert the RA/Dec of the object into pixel coordinates. \n",
    "wcs_pix = wcs.all_world2pix(tess_hdulist[0].header['RA_OBJ'] , tess_hdulist[0].header['DEC_OBJ'],0)\n",
    "wcs_col = wcs_pix[0]\n",
    "wcs_row = wcs_pix[1]\n",
    "\n",
    "# The wcs_row and wcs_col values are in realtive pixels for the cutout, not the CCD as a whole.\n",
    "# We need to add the origin row and column to find the target pixel location on the CCD\n",
    "target_col = origin_col + wcs_col\n",
    "target_row = origin_row + wcs_row\n",
    "\n",
    "shape = tess_hdulist[1].data['FLUX'].shape[1:]\n"
   ]
  },
  {
   "cell_type": "markdown",
   "id": "6a26cdba-2cd7-42de-82d3-7e1a74364db3",
   "metadata": {},
   "source": [
    "Now we have everything we need to create the model. Note the output shape. The first dimension is the number of targets. In this case, we are only modeling a single target, but in practice you may want to model every star contained in the TPF. "
   ]
  },
  {
   "cell_type": "code",
   "execution_count": 8,
   "id": "a7aeb2c2-0408-4965-a41d-4bbf5eca7cb9",
   "metadata": {},
   "outputs": [
    {
     "data": {
      "text/plain": [
       "(1, 11, 11)"
      ]
     },
     "execution_count": 8,
     "metadata": {},
     "output_type": "execute_result"
    }
   ],
   "source": [
    "model_prf = prf_initial.evaluate(targets=[(target_row, target_col)], origin=(origin_row, origin_col), shape=shape)\n",
    "model_prf.shape"
   ]
  },
  {
   "cell_type": "markdown",
   "id": "fb83cda3-cdb5-480e-8a39-7fe2937358f0",
   "metadata": {},
   "source": [
    "## Step 3: Visualize the PRF model\n",
    "\n",
    "Great! We've created a model of the TPF. Let's plot the model to see how it looks compared to the TPF data. "
   ]
  },
  {
   "cell_type": "code",
   "execution_count": 9,
   "id": "3bd90ad1-4a9e-4b86-9211-5ec849f05384",
   "metadata": {},
   "outputs": [
    {
     "data": {
      "image/png": "[encoded data removed]",
      "text/plain": [
       "<Figure size 1000x400 with 4 Axes>"
      ]
     },
     "metadata": {},
     "output_type": "display_data"
    }
   ],
   "source": [
    "fig,axs = plt.subplots(1,2,figsize=(10,4))\n",
    "\n",
    "\n",
    "model = axs[0].imshow(model_prf[0,:,:], origin='lower')\n",
    "axs[0].set_title('lkprf model')\n",
    "fig.colorbar(model, ax = axs[0], label='relative flux')\n",
    "\n",
    "# Plot the real data. We randomly select the 100th observation from the TPF data cube\n",
    "data = axs[1].imshow(tess_hdulist[1].data['FLUX'][100,:,:],  origin='lower')\n",
    "axs[1].set_title('Data')\n",
    "fig.colorbar(data, ax = axs[1], label = 'flux (e/s)')\n",
    "\n",
    "plt.show()\n"
   ]
  },
  {
   "cell_type": "markdown",
   "id": "2834c30f-bb2a-42d9-bef7-6648687d162b",
   "metadata": {},
   "source": [
    "This looks like a good match! It is clear that the real data does in fact have a few other sources of flux, but overall the modeled PRF matches the observations of the primary star. Let's scale the data a bit so we see the comparison more clearly. \n",
    "\n",
    "*Note we add some error handling here. The model contains zero values where no flux is expected, which is invalid when taking the log of the value. "
   ]
  },
  {
   "cell_type": "code",
   "execution_count": 10,
   "id": "568686ab-6603-4d67-a51c-96fa1d69e067",
   "metadata": {},
   "outputs": [
    {
     "data": {
      "image/png": "[encoded data removed]",
      "text/plain": [
       "<Figure size 1000x400 with 4 Axes>"
      ]
     },
     "metadata": {},
     "output_type": "display_data"
    }
   ],
   "source": [
    "fig,axs = plt.subplots(1,2,figsize=(10,4))\n",
    "\n",
    "# Supress warnings due to taking log of 0. These pixels will be nans, and display as white. \n",
    "with np.errstate(invalid='ignore', divide='ignore'):\n",
    "    model = axs[0].imshow(np.log10(model_prf[0,:,:]), origin='lower')\n",
    "axs[0].set_title('lkprf model')\n",
    "fig.colorbar(model, ax = axs[0], label='log relative flux')\n",
    "\n",
    "# Supress warnings due to taking log of 0. These pixels will be nans, and display as white. \n",
    "with np.errstate(invalid='ignore'):\n",
    "    data = axs[1].imshow(np.log10(tess_hdulist[1].data['FLUX'][100,:,:]),  origin='lower')\n",
    "axs[1].set_title('Data')\n",
    "fig.colorbar(data, ax = axs[1], label = 'log flux (e/s)')\n",
    "\n",
    "plt.show()"
   ]
  },
  {
   "cell_type": "markdown",
   "id": "f436469a-c0ea-4d9c-a92a-adc001985482",
   "metadata": {},
   "source": [
    "## Create a PRF model for Kepler\n",
    "Great! Now let's check out the same target with Kepler. We follow the same steps as above to initialize our PRF object and evaluate the model at the target location."
   ]
  },
  {
   "cell_type": "code",
   "execution_count": 11,
   "id": "9835e700-18ae-4fcb-b4f6-0975f92f2642",
   "metadata": {},
   "outputs": [
    {
     "name": "stderr",
     "output_type": "stream",
     "text": [
      "pipeline products: 100%|██████████████████████████| 1/1 [00:00<00:00,  2.51it/s]\n"
     ]
    },
    {
     "data": {
      "image/png": "[encoded data removed]",
      "text/plain": [
       "<Figure size 1000x400 with 4 Axes>"
      ]
     },
     "metadata": {},
     "output_type": "display_data"
    }
   ],
   "source": [
    "fnames = lksearch.KeplerSearch('Kepler 50').cubedata[0].download()\n",
    "kepler_hdulist = fits.open(fnames['Local Path'].values[0])\n",
    "channel = kepler_hdulist[0].header['CHANNEL']\n",
    "\n",
    "# initialize the PRF object\n",
    "prf_initial = lkprf.KeplerPRF(channel=channel) \n",
    "\n",
    "origin_row =  kepler_hdulist[1].header['2CRV4P'] \n",
    "origin_col =  kepler_hdulist[1].header['1CRV4P'] \n",
    "\n",
    "\n",
    "# get the WCS information\n",
    "wcs = WCS(kepler_hdulist[2].header)\n",
    "# Convert the RA/Dec of the object into pixel coordinates. \n",
    "wcs_pix = wcs.all_world2pix(kepler_hdulist[0].header['RA_OBJ'] , kepler_hdulist[0].header['DEC_OBJ'],0)\n",
    "wcs_col = wcs_pix[0]\n",
    "wcs_row = wcs_pix[1]\n",
    "\n",
    "target_col = origin_col + wcs_col\n",
    "target_row = origin_row + wcs_row\n",
    "\n",
    "shape = kepler_hdulist[1].data['FLUX'].shape[1:]\n",
    "\n",
    "\n",
    "# Evaluate the model at our target position\n",
    "model_prf = prf_initial.evaluate(targets=[(target_row, target_col)], origin=(origin_row, origin_col), shape=shape)\n",
    "\n",
    "\n",
    "\n",
    "# Plot the results\n",
    "fig,axs = plt.subplots(1,2,figsize=(10,4))\n",
    "\n",
    "# Supress warnings due to taking log of 0. These pixels will be nans, and display as white. \n",
    "with np.errstate(invalid='ignore', divide='ignore'):\n",
    "    model = axs[0].imshow(np.log10(model_prf[0,:,:]), origin='lower')\n",
    "axs[0].set_title('lkprf model')\n",
    "fig.colorbar(model, ax = axs[0], label='log relative flux')\n",
    "\n",
    "with np.errstate(invalid='ignore'):\n",
    "    data = axs[1].imshow(np.log10(kepler_hdulist[1].data['FLUX'][100,:,:]),  origin='lower')\n",
    "axs[1].set_title('Data')\n",
    "fig.colorbar(data, ax = axs[1], label = 'log flux (e/s)')\n",
    "\n",
    "plt.show()"
   ]
  },
  {
   "cell_type": "markdown",
   "id": "04247d41-8df7-47ee-a9f3-b3e05f0cae94",
   "metadata": {},
   "source": [
    "Excellent! This is also looks like a good match to the Kepler observations. "
   ]
  },
  {
   "cell_type": "markdown",
   "id": "1af29b85-d074-4437-903f-0045cdf7dd7d",
   "metadata": {},
   "source": [
    "## Conclusion\n",
    "\n",
    "While the shape of the PRF looks correct, it is important to remember that the PRF model contains the relative contribution of the pixels and not the flux values (in electrons per second) that we see in the observations. To match the flux values seen in a TPF, you would want to multiply the PRF by the expected flux of the target. "
   ]
  },
  {
   "cell_type": "code",
   "execution_count": null,
   "id": "f56f623f-01f7-4ed6-877c-813bd52bfd3f",
   "metadata": {},
   "outputs": [],
   "source": []
  }
 ],
 "metadata": {
  "kernelspec": {
   "display_name": "Python 3 (ipykernel)",
   "language": "python",
   "name": "python3"
  },
  "language_info": {
   "codemirror_mode": {
    "name": "ipython",
    "version": 3
   },
   "file_extension": ".py",
   "mimetype": "text/x-python",
   "name": "python",
   "nbconvert_exporter": "python",
   "pygments_lexer": "ipython3",
   "version": "3.10.14"
  }
 },
 "nbformat": 4,
 "nbformat_minor": 5
}
