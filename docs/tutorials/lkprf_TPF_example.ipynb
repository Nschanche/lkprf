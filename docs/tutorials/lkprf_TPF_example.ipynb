{
 "cells": [
  {
   "cell_type": "code",
   "execution_count": 1,
   "id": "c3ed9395-bec2-43ad-88e3-5fb45cf4b08f",
   "metadata": {},
   "outputs": [],
   "source": [
    "%matplotlib inline"
   ]
  },
  {
   "cell_type": "markdown",
   "id": "c1c6ff8c-c59d-4431-b8de-a2dddb3905a9",
   "metadata": {},
   "source": [
    "# lkprf Basics"
   ]
  },
  {
   "cell_type": "markdown",
   "id": "b644ac72-dddb-4e13-a56f-2673d28bc2fa",
   "metadata": {},
   "source": [
    "Light from sources does not fall cleanly on a single pixel. Instead, the light is distributed across an area of the detector, known as the Point Spread Function (PSF). The PSF is not constant and varies as a function of spacecraft motion, jitter, location on the detector plane, and detector response. Both [Kepler](https://archive.stsci.edu/missions/kepler/commissioning_prfs/) and [TESS](https://archive.stsci.edu/missions/tess/models/prf_fitsfiles/) have measured the PSF of discrete locations on the CCD in order to model the observed light contribution of a source across the pixels (the Pixel Response Function or PRF). To learn more about the PRF measurements, you can refer to  [Bryson et al., 2010](https://arxiv.org/pdf/1001.0331).\n",
    "\n",
    "\n",
    "In this notebook, we demonstrate how to use lkprf to generate a PRF model based on the engineering files discussed in the paper. We will create our PRF for a source observed in a real [TESS Target Pixel File (TPF)](https://heasarcdev.gsfc.nasa.gov/docs/tess/data-products.html#target-pixel-files-tpfs). "
   ]
  },
  {
   "cell_type": "code",
   "execution_count": 2,
   "id": "64193281-f976-4188-91d6-15aa48486a9c",
   "metadata": {},
   "outputs": [],
   "source": [
    "import matplotlib.pyplot as plt\n",
    "import lkprf\n",
    "import lksearch\n",
    "import numpy as np\n",
    "from astropy.wcs import WCS\n",
    "from astropy.io import fits"
   ]
  },
  {
   "cell_type": "markdown",
   "id": "5d94623e-89ef-49dd-ba90-a3dad01aeb67",
   "metadata": {},
   "source": [
    "In this notebook, we will try to recreate the PRF of a real observed star. To do this, we will start by getting the Target Pixel File for a relatively isolated (low contamination) star. "
   ]
  },
  {
   "cell_type": "code",
   "execution_count": 4,
   "id": "be4e36d3-9995-43b8-ba67-2472bf00bb06",
   "metadata": {},
   "outputs": [
    {
     "data": {
      "text/html": [
       "TESSSearch object containing 14 data products \n",
       "<div>\n",
       "<style scoped>\n",
       "    .dataframe tbody tr th:only-of-type {\n",
       "        vertical-align: middle;\n",
       "    }\n",
       "\n",
       "    .dataframe tbody tr th {\n",
       "        vertical-align: top;\n",
       "    }\n",
       "\n",
       "    .dataframe thead th {\n",
       "        text-align: right;\n",
       "    }\n",
       "</style>\n",
       "<table border=\"1\" class=\"dataframe\">\n",
       "  <thead>\n",
       "    <tr style=\"text-align: right;\">\n",
       "      <th></th>\n",
       "      <th>target_name</th>\n",
       "      <th>pipeline</th>\n",
       "      <th>mission</th>\n",
       "      <th>sector</th>\n",
       "      <th>exptime</th>\n",
       "      <th>distance</th>\n",
       "      <th>year</th>\n",
       "      <th>description</th>\n",
       "    </tr>\n",
       "  </thead>\n",
       "  <tbody>\n",
       "    <tr>\n",
       "      <th>0</th>\n",
       "      <td>298896336</td>\n",
       "      <td>SPOC</td>\n",
       "      <td>TESS</td>\n",
       "      <td>26</td>\n",
       "      <td>120.0</td>\n",
       "      <td>0.0</td>\n",
       "      <td>2020</td>\n",
       "      <td>Target pixel files</td>\n",
       "    </tr>\n",
       "    <tr>\n",
       "      <th>1</th>\n",
       "      <td>298896336</td>\n",
       "      <td>SPOC</td>\n",
       "      <td>TESS</td>\n",
       "      <td>40</td>\n",
       "      <td>20.0</td>\n",
       "      <td>0.0</td>\n",
       "      <td>2021</td>\n",
       "      <td>Target pixel files</td>\n",
       "    </tr>\n",
       "    <tr>\n",
       "      <th>2</th>\n",
       "      <td>298896336</td>\n",
       "      <td>SPOC</td>\n",
       "      <td>TESS</td>\n",
       "      <td>40</td>\n",
       "      <td>120.0</td>\n",
       "      <td>0.0</td>\n",
       "      <td>2021</td>\n",
       "      <td>Target pixel files</td>\n",
       "    </tr>\n",
       "    <tr>\n",
       "      <th>3</th>\n",
       "      <td>298896336</td>\n",
       "      <td>SPOC</td>\n",
       "      <td>TESS</td>\n",
       "      <td>41</td>\n",
       "      <td>20.0</td>\n",
       "      <td>0.0</td>\n",
       "      <td>2021</td>\n",
       "      <td>Target pixel files</td>\n",
       "    </tr>\n",
       "    <tr>\n",
       "      <th>4</th>\n",
       "      <td>298896336</td>\n",
       "      <td>SPOC</td>\n",
       "      <td>TESS</td>\n",
       "      <td>41</td>\n",
       "      <td>120.0</td>\n",
       "      <td>0.0</td>\n",
       "      <td>2021</td>\n",
       "      <td>Target pixel files</td>\n",
       "    </tr>\n",
       "    <tr>\n",
       "      <th>...</th>\n",
       "      <td>...</td>\n",
       "      <td>...</td>\n",
       "      <td>...</td>\n",
       "      <td>...</td>\n",
       "      <td>...</td>\n",
       "      <td>...</td>\n",
       "      <td>...</td>\n",
       "      <td>...</td>\n",
       "    </tr>\n",
       "    <tr>\n",
       "      <th>9</th>\n",
       "      <td>298896336</td>\n",
       "      <td>SPOC</td>\n",
       "      <td>TESS</td>\n",
       "      <td>55</td>\n",
       "      <td>20.0</td>\n",
       "      <td>0.0</td>\n",
       "      <td>2022</td>\n",
       "      <td>Target pixel files</td>\n",
       "    </tr>\n",
       "    <tr>\n",
       "      <th>10</th>\n",
       "      <td>298896336</td>\n",
       "      <td>SPOC</td>\n",
       "      <td>TESS</td>\n",
       "      <td>55</td>\n",
       "      <td>120.0</td>\n",
       "      <td>0.0</td>\n",
       "      <td>2022</td>\n",
       "      <td>Target pixel files</td>\n",
       "    </tr>\n",
       "    <tr>\n",
       "      <th>11</th>\n",
       "      <td>298896336</td>\n",
       "      <td>SPOC</td>\n",
       "      <td>TESS</td>\n",
       "      <td>74</td>\n",
       "      <td>120.0</td>\n",
       "      <td>0.0</td>\n",
       "      <td>2024</td>\n",
       "      <td>Target pixel files</td>\n",
       "    </tr>\n",
       "    <tr>\n",
       "      <th>12</th>\n",
       "      <td>298896336</td>\n",
       "      <td>SPOC</td>\n",
       "      <td>TESS</td>\n",
       "      <td>75</td>\n",
       "      <td>120.0</td>\n",
       "      <td>0.0</td>\n",
       "      <td>2024</td>\n",
       "      <td>Target pixel files</td>\n",
       "    </tr>\n",
       "    <tr>\n",
       "      <th>13</th>\n",
       "      <td>298896336</td>\n",
       "      <td>SPOC</td>\n",
       "      <td>TESS</td>\n",
       "      <td>80</td>\n",
       "      <td>120.0</td>\n",
       "      <td>0.0</td>\n",
       "      <td>2024</td>\n",
       "      <td>Target pixel files</td>\n",
       "    </tr>\n",
       "  </tbody>\n",
       "</table>\n",
       "<p>14 rows × 8 columns</p>\n",
       "</div>"
      ],
      "text/plain": [
       "TESSSearch object containing 14 data products \n",
       "   target_name pipeline mission  sector  exptime  distance  year  \\\n",
       "0    298896336     SPOC    TESS      26    120.0       0.0  2020   \n",
       "1    298896336     SPOC    TESS      40     20.0       0.0  2021   \n",
       "2    298896336     SPOC    TESS      40    120.0       0.0  2021   \n",
       "3    298896336     SPOC    TESS      41     20.0       0.0  2021   \n",
       "4    298896336     SPOC    TESS      41    120.0       0.0  2021   \n",
       "..         ...      ...     ...     ...      ...       ...   ...   \n",
       "9    298896336     SPOC    TESS      55     20.0       0.0  2022   \n",
       "10   298896336     SPOC    TESS      55    120.0       0.0  2022   \n",
       "11   298896336     SPOC    TESS      74    120.0       0.0  2024   \n",
       "12   298896336     SPOC    TESS      75    120.0       0.0  2024   \n",
       "13   298896336     SPOC    TESS      80    120.0       0.0  2024   \n",
       "\n",
       "           description  \n",
       "0   Target pixel files  \n",
       "1   Target pixel files  \n",
       "2   Target pixel files  \n",
       "3   Target pixel files  \n",
       "4   Target pixel files  \n",
       "..                 ...  \n",
       "9   Target pixel files  \n",
       "10  Target pixel files  \n",
       "11  Target pixel files  \n",
       "12  Target pixel files  \n",
       "13  Target pixel files  \n",
       "\n",
       "[14 rows x 8 columns]"
      ]
     },
     "execution_count": 4,
     "metadata": {},
     "output_type": "execute_result"
    }
   ],
   "source": [
    "# Search for TPF data for Kepler 50, a relatively isolated star\n",
    "sr = lksearch.TESSSearch('Kepler 50', pipeline='SPOC').cubedata\n",
    "sr\n"
   ]
  },
  {
   "cell_type": "markdown",
   "id": "291142d8-cfda-4dcc-87d8-87b8a5bb8cee",
   "metadata": {},
   "source": [
    "This star has been observed a number of times by TESS. Let's just pick a single sector to model. "
   ]
  },
  {
   "cell_type": "code",
   "execution_count": 5,
   "id": "395f57cb-f6fa-4f76-86ff-452d0978ab1c",
   "metadata": {},
   "outputs": [
    {
     "name": "stderr",
     "output_type": "stream",
     "text": [
      "pipeline products: 100%|████████████████████████████████████████████████████████████████████████████████████████████| 1/1 [00:01<00:00,  1.87s/it]\n"
     ]
    },
    {
     "data": {
      "text/html": [
       "<div>\n",
       "<style scoped>\n",
       "    .dataframe tbody tr th:only-of-type {\n",
       "        vertical-align: middle;\n",
       "    }\n",
       "\n",
       "    .dataframe tbody tr th {\n",
       "        vertical-align: top;\n",
       "    }\n",
       "\n",
       "    .dataframe thead th {\n",
       "        text-align: right;\n",
       "    }\n",
       "</style>\n",
       "<table border=\"1\" class=\"dataframe\">\n",
       "  <thead>\n",
       "    <tr style=\"text-align: right;\">\n",
       "      <th></th>\n",
       "      <th>Local Path</th>\n",
       "      <th>Status</th>\n",
       "      <th>Message</th>\n",
       "      <th>URL</th>\n",
       "    </tr>\n",
       "  </thead>\n",
       "  <tbody>\n",
       "    <tr>\n",
       "      <th>0</th>\n",
       "      <td>/Users/nthom/.lksearch/cache/mastDownload/TESS...</td>\n",
       "      <td>COMPLETE</td>\n",
       "      <td>None</td>\n",
       "      <td>None</td>\n",
       "    </tr>\n",
       "  </tbody>\n",
       "</table>\n",
       "</div>"
      ],
      "text/plain": [
       "                                          Local Path    Status Message   URL\n",
       "0  /Users/nthom/.lksearch/cache/mastDownload/TESS...  COMPLETE    None  None"
      ]
     },
     "execution_count": 5,
     "metadata": {},
     "output_type": "execute_result"
    }
   ],
   "source": [
    "fnames = sr[0].download()\n",
    "fnames\n"
   ]
  },
  {
   "cell_type": "markdown",
   "id": "acc2fe52-f3ef-4bc6-a58d-b93c001b0494",
   "metadata": {},
   "source": [
    "Note lksearch will download the data and return a dataframe containing the local file path it is downloaded to.  However, it does not read it in to a lightkurve object. We will read it in using the fits file handling package in astropy. "
   ]
  },
  {
   "cell_type": "code",
   "execution_count": 6,
   "id": "8c1d15fe-c5a5-4350-bcb3-59b73a484f41",
   "metadata": {},
   "outputs": [],
   "source": [
    "tess_hdulist = fits.open(fnames['Local Path'].values[0])"
   ]
  },
  {
   "cell_type": "markdown",
   "id": "209e72fc-053a-48d3-8290-0a68bcc7d498",
   "metadata": {},
   "source": [
    "Now that we have our file, we can set up our PRF model. \n",
    "To initiate a PRF object, we need to know which camera and CCD (TESS) or channel (Kepler) the target is on. We also can provide the observing Sector for TESS. This is because two sets of PRF engineering models were produced for TESS. Models for early Sectors (Sectors 1-3) may want to use the first PRF measurements. By default, the models produced for Sectors 4 onwards are used, and so a user must specify if they want to use the early Sector PRFs. \n",
    "\n"
   ]
  },
  {
   "cell_type": "code",
   "execution_count": 7,
   "id": "4f5efa3b-924e-496d-9bc2-3eeb6870bd6c",
   "metadata": {},
   "outputs": [],
   "source": [
    "camera = tess_hdulist[0].header['CAMERA']\n",
    "ccd = tess_hdulist[0].header['CCD']\n",
    "sector = tess_hdulist[0].header['SECTOR'] \n",
    "\n",
    "\n",
    "# initialize the PRF object\n",
    "prf_initial = lkprf.TESSPRF(camera=camera, ccd=ccd) #, sector=sector) "
   ]
  },
  {
   "cell_type": "markdown",
   "id": "98cc4f73-9386-452a-b750-6eb58079dcaa",
   "metadata": {},
   "source": [
    "To produce the model itself, we need three pieces of information: the origin of the cutout (lower left corner), the target object location, and the size of the cutout. These can also be derived from information contained in the TPF. We will use the WCS information contained in the TPF to determine the pixel location of the target. Note that this location is based on the J2000 coordinates, so the location may need to be updated for high proper motion targets. "
   ]
  },
  {
   "cell_type": "code",
   "execution_count": 8,
   "id": "cd02f187-1d60-4fc4-aaae-392d17cb02bb",
   "metadata": {},
   "outputs": [],
   "source": [
    "origin_row =  tess_hdulist[1].header['2CRV4P'] \n",
    "origin_col =  tess_hdulist[1].header['1CRV4P'] \n",
    "\n",
    "\n",
    "# get the WCS information\n",
    "wcs = WCS(tess_hdulist[2].header)\n",
    "# Convert the RA/Dec of the object into pixel coordinates. \n",
    "wcs_pix = wcs.all_world2pix(tess_hdulist[0].header['RA_OBJ'] , tess_hdulist[0].header['DEC_OBJ'],0)\n",
    "wcs_col = wcs_pix[0]\n",
    "wcs_row = wcs_pix[1]\n",
    "\n",
    "target_col = origin_col + wcs_col\n",
    "target_row = origin_row + wcs_row\n",
    "\n",
    "shape = tess_hdulist[1].data['FLUX'].shape[1:]\n"
   ]
  },
  {
   "cell_type": "markdown",
   "id": "6a26cdba-2cd7-42de-82d3-7e1a74364db3",
   "metadata": {},
   "source": [
    "Now we have everything we need to create the model. Note the output shape. The first dimension is the number of targets. In this case, we are only modeling a single target, but in practice you may want to model every star contained in the TPF. "
   ]
  },
  {
   "cell_type": "code",
   "execution_count": 9,
   "id": "a7aeb2c2-0408-4965-a41d-4bbf5eca7cb9",
   "metadata": {},
   "outputs": [
    {
     "data": {
      "text/plain": [
       "(1, 11, 11)"
      ]
     },
     "execution_count": 9,
     "metadata": {},
     "output_type": "execute_result"
    }
   ],
   "source": [
    "model_prf = prf_initial.evaluate(targets=[(target_row, target_col)], origin=(origin_row, origin_col), shape=shape)\n",
    "model_prf.shape"
   ]
  },
  {
   "cell_type": "code",
   "execution_count": 10,
   "id": "3bd90ad1-4a9e-4b86-9211-5ec849f05384",
   "metadata": {},
   "outputs": [
    {
     "data": {
      "image/png": "[encoded data removed]",
      "text/plain": [
       "<Figure size 800x400 with 2 Axes>"
      ]
     },
     "metadata": {},
     "output_type": "display_data"
    }
   ],
   "source": [
    "fig,axs = plt.subplots(1,2,figsize=(8,4))\n",
    "\n",
    "\n",
    "axs[0].imshow(model_prf[0,:,:], origin='lower')\n",
    "axs[0].set_title('lkprf model')\n",
    "\n",
    "# Plot the real data. We randomly select the 100th observation from the TPF data cube\n",
    "axs[1].imshow(tess_hdulist[1].data['FLUX'][100,:,:],  origin='lower')\n",
    "axs[1].set_title('Data')\n",
    "\n",
    "\n",
    "plt.show()\n",
    "\n",
    "\n"
   ]
  },
  {
   "cell_type": "markdown",
   "id": "2834c30f-bb2a-42d9-bef7-6648687d162b",
   "metadata": {},
   "source": [
    "This looks like a good match! It is clear that the real data does in fact have a few other sources, but overall the modeled PRF matches the observations of the primary star. Let's scale the data a bit so we see the comparison more clearly."
   ]
  },
  {
   "cell_type": "code",
   "execution_count": 11,
   "id": "568686ab-6603-4d67-a51c-96fa1d69e067",
   "metadata": {},
   "outputs": [
    {
     "name": "stderr",
     "output_type": "stream",
     "text": [
      "/var/folders/43/zmh1bgsx5x935k5ctwcdnkxhh20lg4/T/ipykernel_61423/4003647498.py:4: RuntimeWarning: divide by zero encountered in log10\n",
      "  axs[0].imshow(np.log10(model_prf[0,:,:]), origin='lower')\n",
      "/var/folders/43/zmh1bgsx5x935k5ctwcdnkxhh20lg4/T/ipykernel_61423/4003647498.py:4: RuntimeWarning: invalid value encountered in log10\n",
      "  axs[0].imshow(np.log10(model_prf[0,:,:]), origin='lower')\n",
      "/var/folders/43/zmh1bgsx5x935k5ctwcdnkxhh20lg4/T/ipykernel_61423/4003647498.py:7: RuntimeWarning: invalid value encountered in log10\n",
      "  axs[1].imshow(np.log10(tess_hdulist[1].data['FLUX'][100,:,:]),  origin='lower')\n"
     ]
    },
    {
     "data": {
      "image/png": "[encoded data removed]",
      "text/plain": [
       "<Figure size 800x400 with 2 Axes>"
      ]
     },
     "metadata": {},
     "output_type": "display_data"
    }
   ],
   "source": [
    "fig,axs = plt.subplots(1,2,figsize=(8,4))\n",
    "\n",
    "\n",
    "axs[0].imshow(np.log10(model_prf[0,:,:]), origin='lower')\n",
    "axs[0].set_title('lkprf model')\n",
    "\n",
    "axs[1].imshow(np.log10(tess_hdulist[1].data['FLUX'][100,:,:]),  origin='lower')\n",
    "axs[1].set_title('Data')\n",
    "\n",
    "\n",
    "plt.show()"
   ]
  },
  {
   "cell_type": "markdown",
   "id": "f436469a-c0ea-4d9c-a92a-adc001985482",
   "metadata": {},
   "source": [
    "Great! Now let's check out the same target with Kepler. We follow the same steps as above to initialize our PRF object and evaluate the model at the target location."
   ]
  },
  {
   "cell_type": "code",
   "execution_count": 14,
   "id": "9835e700-18ae-4fcb-b4f6-0975f92f2642",
   "metadata": {},
   "outputs": [
    {
     "name": "stderr",
     "output_type": "stream",
     "text": [
      "pipeline products: 100%|████████████████████████████████████████████████████████████████████████████████████████████| 1/1 [00:00<00:00,  2.66it/s]\n",
      "/var/folders/43/zmh1bgsx5x935k5ctwcdnkxhh20lg4/T/ipykernel_61423/3836829689.py:30: RuntimeWarning: divide by zero encountered in log10\n",
      "  axs[0].imshow(np.log10(model_prf[0,:,:]), origin='lower')\n",
      "/var/folders/43/zmh1bgsx5x935k5ctwcdnkxhh20lg4/T/ipykernel_61423/3836829689.py:30: RuntimeWarning: invalid value encountered in log10\n",
      "  axs[0].imshow(np.log10(model_prf[0,:,:]), origin='lower')\n",
      "/var/folders/43/zmh1bgsx5x935k5ctwcdnkxhh20lg4/T/ipykernel_61423/3836829689.py:33: RuntimeWarning: invalid value encountered in log10\n",
      "  axs[1].imshow(np.log10(kepler_hdulist[1].data['FLUX'][100,:,:]),  origin='lower')\n"
     ]
    },
    {
     "data": {
      "image/png": "[encoded data removed]",
      "text/plain": [
       "<Figure size 800x400 with 2 Axes>"
      ]
     },
     "metadata": {},
     "output_type": "display_data"
    }
   ],
   "source": [
    "fnames = lksearch.KeplerSearch('Kepler 50').cubedata[0].download()\n",
    "kepler_hdulist = fits.open(fnames['Local Path'].values[0])\n",
    "channel = kepler_hdulist[0].header['CHANNEL']\n",
    "\n",
    "# initialize the PRF object\n",
    "prf_initial = lkprf.KeplerPRF(channel=channel) \n",
    "\n",
    "origin_row =  kepler_hdulist[1].header['2CRV4P'] \n",
    "origin_col =  kepler_hdulist[1].header['1CRV4P'] \n",
    "\n",
    "\n",
    "# get the WCS information\n",
    "wcs = WCS(kepler_hdulist[2].header)\n",
    "# Convert the RA/Dec of the object into pixel coordinates. \n",
    "wcs_pix = wcs.all_world2pix(kepler_hdulist[0].header['RA_OBJ'] , kepler_hdulist[0].header['DEC_OBJ'],0)\n",
    "wcs_col = wcs_pix[0]\n",
    "wcs_row = wcs_pix[1]\n",
    "\n",
    "target_col = origin_col + wcs_col\n",
    "target_row = origin_row + wcs_row\n",
    "\n",
    "shape = kepler_hdulist[1].data['FLUX'].shape[1:]\n",
    "\n",
    "\n",
    "# Evaluate the model at our target position\n",
    "model_prf = prf_initial.evaluate(targets=[(target_row, target_col)], origin=(origin_row, origin_col), shape=shape)\n",
    "\n",
    "\n",
    "\n",
    "# Plot the results\n",
    "fig,axs = plt.subplots(1,2,figsize=(8,4))\n",
    "\n",
    "axs[0].imshow(np.log10(model_prf[0,:,:]), origin='lower')\n",
    "axs[0].set_title('lkprf model')\n",
    "\n",
    "axs[1].imshow(np.log10(kepler_hdulist[1].data['FLUX'][100,:,:]),  origin='lower')\n",
    "axs[1].set_title('Data')\n",
    "\n",
    "plt.show()"
   ]
  },
  {
   "cell_type": "markdown",
   "id": "04247d41-8df7-47ee-a9f3-b3e05f0cae94",
   "metadata": {},
   "source": [
    "Excellent! This is a good match to the Kepler observations. \n",
    "\n",
    "While the shape of the PRF looks correct, it is important to remember that the PRF model contains the relative contribution of the pixels and not the flux-weighted values that we see in the observations (try summing the PRF model and the data above to see this). \n",
    "\n",
    "In order to combine PRF models for a field of stars to recreate a full TPF (or create your own synthetic TPF), you would want to multiply the PRF by the flux for each target in the field. But this is another topic for another tutorial!"
   ]
  }
 ],
 "metadata": {
  "kernelspec": {
   "display_name": "Python 3 (ipykernel)",
   "language": "python",
   "name": "python3"
  },
  "language_info": {
   "codemirror_mode": {
    "name": "ipython",
    "version": 3
   },
   "file_extension": ".py",
   "mimetype": "text/x-python",
   "name": "python",
   "nbconvert_exporter": "python",
   "pygments_lexer": "ipython3",
   "version": "3.10.14"
  }
 },
 "nbformat": 4,
 "nbformat_minor": 5
}
